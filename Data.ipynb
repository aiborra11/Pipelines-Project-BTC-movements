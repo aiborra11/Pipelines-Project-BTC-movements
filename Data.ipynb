{
 "cells": [
  {
   "cell_type": "code",
   "execution_count": 2,
   "metadata": {},
   "outputs": [],
   "source": [
    "import requests as req\n",
    "from bs4 import BeautifulSoup\n",
    "import pandas as pd"
   ]
  },
  {
   "cell_type": "code",
   "execution_count": 7,
   "metadata": {},
   "outputs": [
    {
     "data": {
      "text/html": [
       "<div>\n",
       "<style scoped>\n",
       "    .dataframe tbody tr th:only-of-type {\n",
       "        vertical-align: middle;\n",
       "    }\n",
       "\n",
       "    .dataframe tbody tr th {\n",
       "        vertical-align: top;\n",
       "    }\n",
       "\n",
       "    .dataframe thead th {\n",
       "        text-align: right;\n",
       "    }\n",
       "</style>\n",
       "<table border=\"1\" class=\"dataframe\">\n",
       "  <thead>\n",
       "    <tr style=\"text-align: right;\">\n",
       "      <th></th>\n",
       "      <th>Timestamp</th>\n",
       "      <th>Open</th>\n",
       "      <th>High</th>\n",
       "      <th>Low</th>\n",
       "      <th>Close</th>\n",
       "      <th>Volume (BTC)</th>\n",
       "      <th>Volume (Currency)</th>\n",
       "      <th>Weighted Price</th>\n",
       "    </tr>\n",
       "  </thead>\n",
       "  <tbody>\n",
       "    <tr>\n",
       "      <th>0</th>\n",
       "      <td>2019-06-03 00:00:00</td>\n",
       "      <td>8735.84</td>\n",
       "      <td>8745.96</td>\n",
       "      <td>8715.67</td>\n",
       "      <td>8715.74</td>\n",
       "      <td>15.77</td>\n",
       "      <td>137608.69</td>\n",
       "      <td>8724.77</td>\n",
       "    </tr>\n",
       "    <tr>\n",
       "      <th>1</th>\n",
       "      <td>2019-06-03 00:05:00</td>\n",
       "      <td>8715.74</td>\n",
       "      <td>8718.09</td>\n",
       "      <td>8691.93</td>\n",
       "      <td>8706.82</td>\n",
       "      <td>58.71</td>\n",
       "      <td>511301.42</td>\n",
       "      <td>8709.02</td>\n",
       "    </tr>\n",
       "    <tr>\n",
       "      <th>2</th>\n",
       "      <td>2019-06-03 00:10:00</td>\n",
       "      <td>8706.76</td>\n",
       "      <td>8708.93</td>\n",
       "      <td>8685</td>\n",
       "      <td>8685</td>\n",
       "      <td>54.75</td>\n",
       "      <td>476283.04</td>\n",
       "      <td>8699.47</td>\n",
       "    </tr>\n",
       "    <tr>\n",
       "      <th>3</th>\n",
       "      <td>2019-06-03 00:15:00</td>\n",
       "      <td>8686.16</td>\n",
       "      <td>8696</td>\n",
       "      <td>8671.47</td>\n",
       "      <td>8676.82</td>\n",
       "      <td>68.32</td>\n",
       "      <td>593057.25</td>\n",
       "      <td>8680.62</td>\n",
       "    </tr>\n",
       "    <tr>\n",
       "      <th>4</th>\n",
       "      <td>2019-06-03 00:20:00</td>\n",
       "      <td>8677.79</td>\n",
       "      <td>8695.56</td>\n",
       "      <td>8676.28</td>\n",
       "      <td>8691.24</td>\n",
       "      <td>11.44</td>\n",
       "      <td>99289.49</td>\n",
       "      <td>8682.81</td>\n",
       "    </tr>\n",
       "  </tbody>\n",
       "</table>\n",
       "</div>"
      ],
      "text/plain": [
       "             Timestamp     Open     High      Low    Close Volume (BTC)  \\\n",
       "0  2019-06-03 00:00:00  8735.84  8745.96  8715.67  8715.74        15.77   \n",
       "1  2019-06-03 00:05:00  8715.74  8718.09  8691.93  8706.82        58.71   \n",
       "2  2019-06-03 00:10:00  8706.76  8708.93     8685     8685        54.75   \n",
       "3  2019-06-03 00:15:00  8686.16     8696  8671.47  8676.82        68.32   \n",
       "4  2019-06-03 00:20:00  8677.79  8695.56  8676.28  8691.24        11.44   \n",
       "\n",
       "  Volume (Currency) Weighted Price  \n",
       "0         137608.69        8724.77  \n",
       "1         511301.42        8709.02  \n",
       "2         476283.04        8699.47  \n",
       "3         593057.25        8680.62  \n",
       "4          99289.49        8682.81  "
      ]
     },
     "metadata": {},
     "output_type": "display_data"
    },
    {
     "name": "stdout",
     "output_type": "stream",
     "text": [
      "(7376, 8)\n"
     ]
    }
   ],
   "source": [
    "#datainfo = https://bitcoincharts.com/charts/bitstampUSD#rg10zig5-minzczsg2019-06-17zeg2019-06-29ztgSzm1g10zm2g25zi1gRSIzv\n",
    "#No tiene el exchange que busco, pero es lo unico que he encontrado que me facilite la info en min5.\n",
    "data = pd.read_csv('BTCPrice.csv', engine = 'python', delimiter=\";\", decimal=\",\")\n",
    "display(data.head())\n",
    "print(data.shape)"
   ]
  },
  {
   "cell_type": "code",
   "execution_count": 17,
   "metadata": {},
   "outputs": [
    {
     "data": {
      "text/html": [
       "<div>\n",
       "<style scoped>\n",
       "    .dataframe tbody tr th:only-of-type {\n",
       "        vertical-align: middle;\n",
       "    }\n",
       "\n",
       "    .dataframe tbody tr th {\n",
       "        vertical-align: top;\n",
       "    }\n",
       "\n",
       "    .dataframe thead th {\n",
       "        text-align: right;\n",
       "    }\n",
       "</style>\n",
       "<table border=\"1\" class=\"dataframe\">\n",
       "  <thead>\n",
       "    <tr style=\"text-align: right;\">\n",
       "      <th></th>\n",
       "      <th>Open</th>\n",
       "      <th>High</th>\n",
       "      <th>Low</th>\n",
       "      <th>Close</th>\n",
       "      <th>Volume (BTC)</th>\n",
       "    </tr>\n",
       "  </thead>\n",
       "  <tbody>\n",
       "    <tr>\n",
       "      <th>0</th>\n",
       "      <td>8735.84</td>\n",
       "      <td>8745.96</td>\n",
       "      <td>8715.67</td>\n",
       "      <td>8715.74</td>\n",
       "      <td>15.77</td>\n",
       "    </tr>\n",
       "    <tr>\n",
       "      <th>1</th>\n",
       "      <td>8715.74</td>\n",
       "      <td>8718.09</td>\n",
       "      <td>8691.93</td>\n",
       "      <td>8706.82</td>\n",
       "      <td>58.71</td>\n",
       "    </tr>\n",
       "    <tr>\n",
       "      <th>2</th>\n",
       "      <td>8706.76</td>\n",
       "      <td>8708.93</td>\n",
       "      <td>8685</td>\n",
       "      <td>8685</td>\n",
       "      <td>54.75</td>\n",
       "    </tr>\n",
       "    <tr>\n",
       "      <th>3</th>\n",
       "      <td>8686.16</td>\n",
       "      <td>8696</td>\n",
       "      <td>8671.47</td>\n",
       "      <td>8676.82</td>\n",
       "      <td>68.32</td>\n",
       "    </tr>\n",
       "    <tr>\n",
       "      <th>4</th>\n",
       "      <td>8677.79</td>\n",
       "      <td>8695.56</td>\n",
       "      <td>8676.28</td>\n",
       "      <td>8691.24</td>\n",
       "      <td>11.44</td>\n",
       "    </tr>\n",
       "  </tbody>\n",
       "</table>\n",
       "</div>"
      ],
      "text/plain": [
       "      Open     High      Low    Close Volume (BTC)\n",
       "0  8735.84  8745.96  8715.67  8715.74        15.77\n",
       "1  8715.74  8718.09  8691.93  8706.82        58.71\n",
       "2  8706.76  8708.93     8685     8685        54.75\n",
       "3  8686.16     8696  8671.47  8676.82        68.32\n",
       "4  8677.79  8695.56  8676.28  8691.24        11.44"
      ]
     },
     "metadata": {},
     "output_type": "display_data"
    }
   ],
   "source": [
    "data_clean = data[['Open', 'High', 'Low', 'Close', 'Volume (BTC)']]\n",
    "display(data_clean.head())\n"
   ]
  },
  {
   "cell_type": "code",
   "execution_count": 3,
   "metadata": {},
   "outputs": [
    {
     "data": {
      "text/plain": [
       "'{\"name\":\"BitMEX API\",\"version\":\"1.2.0\",\"timestamp\":1561721363328}'"
      ]
     },
     "execution_count": 3,
     "metadata": {},
     "output_type": "execute_result"
    }
   ],
   "source": [
    "url = 'https://www.bitmex.com/api/v1'\n",
    "res = req.get(url)\n",
    "res.text"
   ]
  },
  {
   "cell_type": "code",
   "execution_count": null,
   "metadata": {},
   "outputs": [],
   "source": []
  }
 ],
 "metadata": {
  "kernelspec": {
   "display_name": "Python 3",
   "language": "python",
   "name": "python3"
  },
  "language_info": {
   "codemirror_mode": {
    "name": "ipython",
    "version": 3
   },
   "file_extension": ".py",
   "mimetype": "text/x-python",
   "name": "python",
   "nbconvert_exporter": "python",
   "pygments_lexer": "ipython3",
   "version": "3.7.2"
  }
 },
 "nbformat": 4,
 "nbformat_minor": 2
}
