{
 "cells": [
  {
   "cell_type": "code",
   "execution_count": 1,
   "metadata": {},
   "outputs": [],
   "source": [
    "from scipy.stats import binom"
   ]
  },
  {
   "cell_type": "code",
   "execution_count": 5,
   "metadata": {},
   "outputs": [
    {
     "data": {
      "text/plain": [
       "1.907348632812499e-05"
      ]
     },
     "execution_count": 5,
     "metadata": {},
     "output_type": "execute_result"
    }
   ],
   "source": [
    "binom.pmf(1,20,0.5)"
   ]
  },
  {
   "cell_type": "code",
   "execution_count": null,
   "metadata": {},
   "outputs": [],
   "source": [
    "#pmf = probability mass function. El resultado es la probabiliadd de que en 20 tiradas, solo una salga cara. "
   ]
  },
  {
   "cell_type": "code",
   "execution_count": 3,
   "metadata": {},
   "outputs": [
    {
     "data": {
      "text/plain": [
       "2.0027160644531247e-05"
      ]
     },
     "execution_count": 3,
     "metadata": {},
     "output_type": "execute_result"
    }
   ],
   "source": [
    "binom.cdf(1,20,0.5)"
   ]
  },
  {
   "cell_type": "code",
   "execution_count": null,
   "metadata": {},
   "outputs": [],
   "source": [
    "#cdf = cummulative mass function"
   ]
  },
  {
   "cell_type": "code",
   "execution_count": null,
   "metadata": {},
   "outputs": [],
   "source": []
  },
  {
   "cell_type": "code",
   "execution_count": 6,
   "metadata": {},
   "outputs": [],
   "source": [
    "from scipy.stats import norm"
   ]
  },
  {
   "cell_type": "code",
   "execution_count": 7,
   "metadata": {},
   "outputs": [],
   "source": [
    "#norm => mu = 0, sigma =1 (por defecto)\n",
    "normal = norm(2,1) #media = 2, desv tipico = 1"
   ]
  },
  {
   "cell_type": "code",
   "execution_count": 8,
   "metadata": {},
   "outputs": [
    {
     "data": {
      "text/plain": [
       "0.5"
      ]
     },
     "execution_count": 8,
     "metadata": {},
     "output_type": "execute_result"
    }
   ],
   "source": [
    "norm.cdf(0,0,1) #el resultado indica que la probabildiad desde la media hacia un lado es la misma que hacia el otro = 0.5"
   ]
  },
  {
   "cell_type": "code",
   "execution_count": null,
   "metadata": {},
   "outputs": [],
   "source": []
  },
  {
   "cell_type": "code",
   "execution_count": null,
   "metadata": {},
   "outputs": [],
   "source": []
  },
  {
   "cell_type": "code",
   "execution_count": 31,
   "metadata": {},
   "outputs": [],
   "source": [
    "from scipy.stats import ttest_1samp, t\n",
    "import numpy as np"
   ]
  },
  {
   "cell_type": "code",
   "execution_count": 32,
   "metadata": {},
   "outputs": [
    {
     "data": {
      "text/plain": [
       "array([ 7.30334971,  6.67399137,  3.79051615,  5.88504175,  3.47477267,\n",
       "        6.14432393,  7.82566742,  6.66000327,  4.47330135,  5.28104329,\n",
       "        5.51373716,  3.94021769,  5.75626135,  7.72277401,  1.75689758,\n",
       "        6.40214715,  3.92062881,  6.79693475,  6.01578845,  5.87371934,\n",
       "        5.06129013,  6.94438394,  6.65262089,  4.7582334 ,  5.38223348,\n",
       "        5.99492763,  1.78628874,  2.56233473,  4.75695434,  6.24986516,\n",
       "        4.67910611,  6.25910517,  5.67136394,  4.72970201,  2.82882572,\n",
       "        4.9515051 ,  5.5764197 ,  1.69232349,  6.39789105,  4.11598931,\n",
       "        5.41607085,  6.54740737,  4.47215753,  6.79271561,  6.16111777,\n",
       "        7.82821953,  4.48381343,  5.45730565,  5.43067134,  9.21146869,\n",
       "        7.56041707,  4.78092181,  5.15485564,  5.08946312,  4.18603534,\n",
       "        6.38197678,  3.96375682,  4.06592139,  4.92463089,  4.17591601,\n",
       "        7.80052027,  3.23926276,  2.4995335 ,  4.96567833,  5.52104994,\n",
       "        4.19707038,  2.68365461,  5.72265864,  1.73504524,  4.75688886,\n",
       "        4.95611226,  4.26331066,  6.7078137 ,  6.32314271,  6.19902396,\n",
       "        6.24393383,  6.40840121,  5.39274944,  2.24516073,  3.19534834,\n",
       "        5.82611036,  6.00327606,  7.24922787,  4.43726005,  3.86847987,\n",
       "        4.34882531,  4.18217803,  4.85113399,  8.16256685,  5.39915243,\n",
       "        7.52609706,  7.98986183,  4.66851931,  5.54986807,  5.47140993,\n",
       "        8.66643813, -0.13935021,  3.66583629,  1.37377093,  5.46486142])"
      ]
     },
     "execution_count": 32,
     "metadata": {},
     "output_type": "execute_result"
    }
   ],
   "source": [
    "patients = np.random.normal(5.1, 1.6, 100)\n",
    "patients"
   ]
  },
  {
   "cell_type": "code",
   "execution_count": 33,
   "metadata": {},
   "outputs": [
    {
     "data": {
      "text/plain": [
       "Ttest_1sampResult(statistic=-2.934315535715602, pvalue=0.004154853597371693)"
      ]
     },
     "execution_count": 33,
     "metadata": {},
     "output_type": "execute_result"
    }
   ],
   "source": [
    "ttest_1samp(patients, 5.7)"
   ]
  },
  {
   "cell_type": "code",
   "execution_count": 34,
   "metadata": {},
   "outputs": [],
   "source": [
    "# pvalue= indica la probabilidad de que el resultado haya sido casualidad\n",
    "# statistic = el negativo nos indica el valor de la probabilidad (creo que la probabilidad students-t)\n",
    "# La hipotesis nula es el 5.7 == la rechazamos porque el valor es negativo"
   ]
  },
  {
   "cell_type": "code",
   "execution_count": 35,
   "metadata": {},
   "outputs": [],
   "source": [
    "rv = t(df=99)\n",
    "\n",
    "#df = grados de libertad. Tamanyo de la meustra (100)-1"
   ]
  },
  {
   "cell_type": "code",
   "execution_count": 36,
   "metadata": {},
   "outputs": [],
   "source": [
    "mu_0 = 5.7 #\n",
    "mu_1 = 5.1 #la que nosotros hemos medido\n",
    "s = 1.6 #desviacion tipica\n",
    "n = 100"
   ]
  },
  {
   "cell_type": "code",
   "execution_count": 37,
   "metadata": {},
   "outputs": [
    {
     "data": {
      "text/plain": [
       "-3.750000000000003"
      ]
     },
     "execution_count": 37,
     "metadata": {},
     "output_type": "execute_result"
    }
   ],
   "source": [
    "t_test = (mu_1 - mu_0)/(s/np.sqrt(n))\n",
    "t_test"
   ]
  },
  {
   "cell_type": "code",
   "execution_count": 39,
   "metadata": {},
   "outputs": [
    {
     "data": {
      "text/plain": [
       "0.0005195698013766717"
      ]
     },
     "execution_count": 39,
     "metadata": {},
     "output_type": "execute_result"
    }
   ],
   "source": [
    "p_value = rv.pdf(t_test)\n",
    "p_value"
   ]
  },
  {
   "cell_type": "code",
   "execution_count": 40,
   "metadata": {},
   "outputs": [
    {
     "data": {
      "text/plain": [
       "5.199692068344575"
      ]
     },
     "execution_count": 40,
     "metadata": {},
     "output_type": "execute_result"
    }
   ],
   "source": [
    "np.mean(patients)"
   ]
  },
  {
   "cell_type": "code",
   "execution_count": null,
   "metadata": {},
   "outputs": [],
   "source": []
  },
  {
   "cell_type": "code",
   "execution_count": null,
   "metadata": {},
   "outputs": [],
   "source": []
  },
  {
   "cell_type": "code",
   "execution_count": null,
   "metadata": {},
   "outputs": [],
   "source": []
  },
  {
   "cell_type": "code",
   "execution_count": null,
   "metadata": {},
   "outputs": [],
   "source": []
  },
  {
   "cell_type": "code",
   "execution_count": null,
   "metadata": {},
   "outputs": [],
   "source": []
  }
 ],
 "metadata": {
  "kernelspec": {
   "display_name": "Python 3",
   "language": "python",
   "name": "python3"
  },
  "language_info": {
   "codemirror_mode": {
    "name": "ipython",
    "version": 3
   },
   "file_extension": ".py",
   "mimetype": "text/x-python",
   "name": "python",
   "nbconvert_exporter": "python",
   "pygments_lexer": "ipython3",
   "version": "3.7.2"
  }
 },
 "nbformat": 4,
 "nbformat_minor": 2
}
